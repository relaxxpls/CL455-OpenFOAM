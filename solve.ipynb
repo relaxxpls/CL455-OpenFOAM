{
 "cells": [
  {
   "cell_type": "code",
   "execution_count": 24,
   "metadata": {},
   "outputs": [
    {
     "name": "stdout",
     "output_type": "stream",
     "text": [
      "Cf: 0.006203111684382995\n",
      "yp: 0.004348949216714248\n"
     ]
    }
   ],
   "source": [
    "y = 242.2\n",
    "Re = 25000.0\n",
    "Cf = 0.078 * Re**(-1/4)\n",
    "print(\"Cf:\", Cf)\n",
    "\n",
    "nu = 1e-5\n",
    "U = 10\n",
    "yp = (y * nu) / (0.5 * Cf * U**2)**0.5\n",
    "print(\"yp:\", yp)\n"
   ]
  },
  {
   "cell_type": "code",
   "execution_count": 27,
   "metadata": {},
   "outputs": [
    {
     "name": "stdout",
     "output_type": "stream",
     "text": [
      "I: 0.04512087172965134\n",
      "k: 0.3053839598465474\n",
      "e: 0.02773008593044288\n"
     ]
    }
   ],
   "source": [
    "I = 0.16 * Re**(-1/8)\n",
    "print(\"I:\", I)\n",
    "\n",
    "k = 1.5 * (U * I)**2\n",
    "print(\"k:\", k)\n",
    "\n",
    "dh = 1\n",
    "l = 0.07 * dh\n",
    "\n",
    "Cu = 0.09\n",
    "e = Cu**(3/4) * k**(3/2)\n",
    "print(\"e:\", e)\n"
   ]
  },
  {
   "cell_type": "code",
   "execution_count": null,
   "metadata": {},
   "outputs": [],
   "source": []
  }
 ],
 "metadata": {
  "kernelspec": {
   "display_name": "Python 3.9.6 64-bit",
   "language": "python",
   "name": "python3"
  },
  "language_info": {
   "codemirror_mode": {
    "name": "ipython",
    "version": 3
   },
   "file_extension": ".py",
   "mimetype": "text/x-python",
   "name": "python",
   "nbconvert_exporter": "python",
   "pygments_lexer": "ipython3",
   "version": "3.9.6"
  },
  "orig_nbformat": 4,
  "vscode": {
   "interpreter": {
    "hash": "81794d4967e6c3204c66dcd87b604927b115b27c00565d3d43f05ba2f3a2cb0d"
   }
  }
 },
 "nbformat": 4,
 "nbformat_minor": 2
}
